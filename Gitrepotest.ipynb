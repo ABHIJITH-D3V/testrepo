{
  "nbformat": 4,
  "nbformat_minor": 0,
  "metadata": {
    "colab": {
      "provenance": []
    },
    "kernelspec": {
      "name": "python3",
      "display_name": "Python 3"
    },
    "language_info": {
      "name": "python"
    }
  },
  "cells": [
    {
      "cell_type": "code",
      "execution_count": null,
      "metadata": {
        "id": "pCgSeO8boCP-"
      },
      "outputs": [],
      "source": [
        "# Exercise - Title of the Notebook\n",
        "Data Science Project\n"
      ]
    },
    {
      "cell_type": "code",
      "source": [
        "# Introduction\n",
        "# This notebook is a simple project created for the purpose of understanding and practicing data science concepts."
      ],
      "metadata": {
        "id": "YVS-SO0qoM8s"
      },
      "execution_count": null,
      "outputs": []
    },
    {
      "cell_type": "code",
      "source": [
        "# Data Science Languages\n",
        "1. Python\n",
        "2. R\n",
        "3. SQL\n",
        "4. Julia"
      ],
      "metadata": {
        "id": "zP8T060-oOeM"
      },
      "execution_count": null,
      "outputs": []
    },
    {
      "cell_type": "code",
      "source": [
        "# Data Science Libraries\n",
        "1. Pandas\n",
        "2. NumPy\n",
        "3. Matplotlib\n",
        "4. Scikit-learn"
      ],
      "metadata": {
        "id": "rM1ppGDcoO0q"
      },
      "execution_count": null,
      "outputs": []
    },
    {
      "cell_type": "code",
      "source": [
        "# Data Science Tools\n",
        "# Jupyter Notebook : Interactive coding and documentation\n",
        "# Anaconda : Package management\n",
        "# TensorFlow : Machine Learning\n",
        "# Matplotlib : Creating Visualizations\n"
      ],
      "metadata": {
        "id": "uiT8WKAwoPCY"
      },
      "execution_count": null,
      "outputs": []
    },
    {
      "cell_type": "code",
      "source": [
        "# Arithmetic Expression Examples\n",
        "# In Python, you can perform arithmetic operations such as addition (+), subtraction (-), multiplication (*), and division (/).\n"
      ],
      "metadata": {
        "id": "rxA5JYSspkZi"
      },
      "execution_count": null,
      "outputs": []
    },
    {
      "cell_type": "code",
      "source": [
        "# Multiply and Add Numbers\n",
        "\n",
        "# Multiply\n",
        "product = 2 * 3\n",
        "print(product)\n",
        "\n",
        "# Add\n",
        "sum = 2 + 3\n",
        "print(sum)"
      ],
      "metadata": {
        "id": "jaDzmCa2p0Kb"
      },
      "execution_count": null,
      "outputs": []
    },
    {
      "cell_type": "code",
      "source": [
        "# Convert minutes to hours\n",
        "minutes = 120\n",
        "hours = minutes / 60\n",
        "print(hours)\n"
      ],
      "metadata": {
        "colab": {
          "base_uri": "https://localhost:8080/"
        },
        "id": "li8AcjULqE5a",
        "outputId": "babafe11-7f2a-45a9-ae28-9a3ccce22033"
      },
      "execution_count": null,
      "outputs": [
        {
          "output_type": "stream",
          "name": "stdout",
          "text": [
            "Hours: 2.0\n"
          ]
        }
      ]
    },
    {
      "cell_type": "code",
      "source": [
        "# Authors Name : Abhijith Dev"
      ],
      "metadata": {
        "id": "V1QnAuhRqXw7"
      },
      "execution_count": null,
      "outputs": []
    }
  ]
}